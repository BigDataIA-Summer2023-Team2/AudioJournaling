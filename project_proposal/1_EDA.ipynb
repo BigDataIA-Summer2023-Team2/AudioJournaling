{
 "cells": [
  {
   "cell_type": "markdown",
   "id": "bc032185-22bb-4ea9-8146-76f2cfe720c4",
   "metadata": {},
   "source": [
    "##### Journaling is a very good habit of maintaining and improving mental health. There are different types of journaling people prefer, travel, gratitude, day-to-day activities etc.\n",
    "##### The constraint of journaling on paper is it has to be done in one go at the EOD and needs you to have access to different resources additionally they don't convey the emotion of the person through intonations.\n",
    "##### Audio journaling emits the need to have resources and gives an acceessibility for quick journaling throughout the day.\n",
    "##### Journaling is attached with lot of emotions which can be tracked along the way and helpful and motivational contextual suggestions would help improve the overall mental health."
   ]
  },
  {
   "cell_type": "markdown",
   "id": "02561279-3b51-455d-97ce-8798dbd3870f",
   "metadata": {},
   "source": [
    "- Surrey Audio-Visual Expressed Emotion (SAVEE) https://www.kaggle.com/ejlok1/surrey-audiovisual-expressed-emotion-savee\n",
    "- Ryerson Audio-Visual Database of Emotional Speech and Song (RAVDESS) https://www.kaggle.com/uwrfkaggler/ravdess-emotional-speech-audio\n",
    "- Toronto emotional speech set (TESS) https://www.kaggle.com/ejlok1/toronto-emotional-speech-set-tess\n",
    "- Crowd-sourced Emotional Mutimodal Actors Dataset (CREMA-D) https://www.kaggle.com/ejlok1/cremad"
   ]
  },
  {
   "cell_type": "code",
   "execution_count": 7,
   "id": "cf15ac34-4117-4a91-b644-2d1bc34b8f32",
   "metadata": {},
   "outputs": [
    {
     "data": {
      "text/plain": [
       "labels\n",
       "male_neutral       144\n",
       "female_neutral     144\n",
       "male_surprise       96\n",
       "male_angry          96\n",
       "male_fear           96\n",
       "male_disgust        96\n",
       "male_sad            96\n",
       "male_happy          96\n",
       "female_fear         96\n",
       "female_angry        96\n",
       "female_sad          96\n",
       "female_disgust      96\n",
       "female_surprise     96\n",
       "female_happy        96\n",
       "Name: count, dtype: int64"
      ]
     },
     "execution_count": 7,
     "metadata": {},
     "output_type": "execute_result"
    }
   ],
   "source": [
    "import os\n",
    "import pandas as pd\n",
    "RAV = \"archive/audio_speech_actors_01-24/\"\n",
    "dir_list = os.listdir(RAV)\n",
    "dir_list.sort()\n",
    "\n",
    "emotion = []\n",
    "gender = []\n",
    "path = []\n",
    "for i in dir_list:\n",
    "    fname = os.listdir(RAV + i)\n",
    "    for f in fname:\n",
    "        part = f.split('.')[0].split('-')\n",
    "        emotion.append(int(part[2]))\n",
    "        temp = int(part[6])\n",
    "        if temp%2 == 0:\n",
    "            temp = \"female\"\n",
    "        else:\n",
    "            temp = \"male\"\n",
    "        gender.append(temp)\n",
    "        path.append(RAV + i + '/' + f)\n",
    "\n",
    "        \n",
    "RAV_df = pd.DataFrame(emotion)\n",
    "RAV_df = RAV_df.replace({1:'neutral', 2:'neutral', 3:'happy', 4:'sad', 5:'angry', 6:'fear', 7:'disgust', 8:'surprise'})\n",
    "RAV_df = pd.concat([pd.DataFrame(gender),RAV_df],axis=1)\n",
    "RAV_df.columns = ['gender','emotion']\n",
    "RAV_df['labels'] =RAV_df.gender + '_' + RAV_df.emotion\n",
    "RAV_df['source'] = 'RAVDESS'  \n",
    "RAV_df = pd.concat([RAV_df,pd.DataFrame(path, columns = ['path'])],axis=1)\n",
    "RAV_df = RAV_df.drop(['gender', 'emotion'], axis=1)\n",
    "RAV_df.labels.value_counts()"
   ]
  },
  {
   "cell_type": "code",
   "execution_count": 8,
   "id": "0e5573f9-2501-431a-9656-702238f8642e",
   "metadata": {},
   "outputs": [],
   "source": [
    "import pandas as pd"
   ]
  },
  {
   "cell_type": "code",
   "execution_count": 9,
   "id": "dabc24f7-6624-41d6-991c-1ad8a3e69ac5",
   "metadata": {},
   "outputs": [],
   "source": [
    "df = pd.read_csv(\"CREMA-D/processedResults/summaryTable.csv\")"
   ]
  },
  {
   "cell_type": "code",
   "execution_count": 10,
   "id": "f2dae806-9f58-4c9d-910d-f121b8ab4a2d",
   "metadata": {},
   "outputs": [
    {
     "data": {
      "text/html": [
       "<div>\n",
       "<style scoped>\n",
       "    .dataframe tbody tr th:only-of-type {\n",
       "        vertical-align: middle;\n",
       "    }\n",
       "\n",
       "    .dataframe tbody tr th {\n",
       "        vertical-align: top;\n",
       "    }\n",
       "\n",
       "    .dataframe thead th {\n",
       "        text-align: right;\n",
       "    }\n",
       "</style>\n",
       "<table border=\"1\" class=\"dataframe\">\n",
       "  <thead>\n",
       "    <tr style=\"text-align: right;\">\n",
       "      <th></th>\n",
       "      <th>Unnamed: 0</th>\n",
       "      <th>FileName</th>\n",
       "      <th>VoiceVote</th>\n",
       "      <th>VoiceLevel</th>\n",
       "      <th>FaceVote</th>\n",
       "      <th>FaceLevel</th>\n",
       "      <th>MultiModalVote</th>\n",
       "      <th>MultiModalLevel</th>\n",
       "    </tr>\n",
       "  </thead>\n",
       "  <tbody>\n",
       "    <tr>\n",
       "      <th>0</th>\n",
       "      <td>1</td>\n",
       "      <td>1001_IEO_NEU_XX</td>\n",
       "      <td>N</td>\n",
       "      <td>69.1</td>\n",
       "      <td>N</td>\n",
       "      <td>92.22</td>\n",
       "      <td>N</td>\n",
       "      <td>64.78</td>\n",
       "    </tr>\n",
       "    <tr>\n",
       "      <th>1</th>\n",
       "      <td>2</td>\n",
       "      <td>1001_IEO_HAP_LO</td>\n",
       "      <td>N</td>\n",
       "      <td>71.67</td>\n",
       "      <td>H</td>\n",
       "      <td>57</td>\n",
       "      <td>H</td>\n",
       "      <td>57.38</td>\n",
       "    </tr>\n",
       "    <tr>\n",
       "      <th>2</th>\n",
       "      <td>3</td>\n",
       "      <td>1001_IEO_HAP_MD</td>\n",
       "      <td>N</td>\n",
       "      <td>67.71</td>\n",
       "      <td>H</td>\n",
       "      <td>62.62</td>\n",
       "      <td>H</td>\n",
       "      <td>56.56</td>\n",
       "    </tr>\n",
       "    <tr>\n",
       "      <th>3</th>\n",
       "      <td>4</td>\n",
       "      <td>1001_IEO_HAP_HI</td>\n",
       "      <td>H</td>\n",
       "      <td>63.5</td>\n",
       "      <td>H</td>\n",
       "      <td>68.25</td>\n",
       "      <td>H</td>\n",
       "      <td>73.2</td>\n",
       "    </tr>\n",
       "    <tr>\n",
       "      <th>4</th>\n",
       "      <td>5</td>\n",
       "      <td>1001_IEO_SAD_LO</td>\n",
       "      <td>N</td>\n",
       "      <td>73.71</td>\n",
       "      <td>N</td>\n",
       "      <td>73.5</td>\n",
       "      <td>N</td>\n",
       "      <td>74.8</td>\n",
       "    </tr>\n",
       "  </tbody>\n",
       "</table>\n",
       "</div>"
      ],
      "text/plain": [
       "   Unnamed: 0         FileName VoiceVote VoiceLevel FaceVote FaceLevel  \\\n",
       "0           1  1001_IEO_NEU_XX         N       69.1        N     92.22   \n",
       "1           2  1001_IEO_HAP_LO         N      71.67        H        57   \n",
       "2           3  1001_IEO_HAP_MD         N      67.71        H     62.62   \n",
       "3           4  1001_IEO_HAP_HI         H       63.5        H     68.25   \n",
       "4           5  1001_IEO_SAD_LO         N      73.71        N      73.5   \n",
       "\n",
       "  MultiModalVote MultiModalLevel  \n",
       "0              N           64.78  \n",
       "1              H           57.38  \n",
       "2              H           56.56  \n",
       "3              H            73.2  \n",
       "4              N            74.8  "
      ]
     },
     "execution_count": 10,
     "metadata": {},
     "output_type": "execute_result"
    }
   ],
   "source": [
    "df.head()"
   ]
  },
  {
   "cell_type": "code",
   "execution_count": 11,
   "id": "5b6756fe-9d5a-4a6d-b884-fa3b4b2dc600",
   "metadata": {},
   "outputs": [
    {
     "data": {
      "text/plain": [
       "VoiceVote\n",
       "N            3897\n",
       "A             986\n",
       "F             645\n",
       "D             547\n",
       "S             370\n",
       "H             353\n",
       "N:S           114\n",
       "F:N            93\n",
       "D:N            81\n",
       "A:D            73\n",
       "H:N            73\n",
       "A:N            38\n",
       "F:S            28\n",
       "D:F            17\n",
       "A:F            14\n",
       "A:D:N          13\n",
       "D:S            12\n",
       "F:H            11\n",
       "F:N:S          11\n",
       "A:H            10\n",
       "D:F:N           8\n",
       "D:H             5\n",
       "A:H:N           5\n",
       "D:N:S           5\n",
       "A:D:F:N         4\n",
       "F:H:N           4\n",
       "D:F:S           3\n",
       "A:S             3\n",
       "A:F:N           3\n",
       "D:H:N           3\n",
       "H:N:S           3\n",
       "H:S             2\n",
       "D:F:N:S         2\n",
       "A:D:H:N         1\n",
       "D:F:H:N         1\n",
       "F:H:N:S         1\n",
       "A:D:F:N:S       1\n",
       "A:N:S           1\n",
       "A:D:N:S         1\n",
       "Name: count, dtype: int64"
      ]
     },
     "execution_count": 11,
     "metadata": {},
     "output_type": "execute_result"
    }
   ],
   "source": [
    "df.VoiceVote.value_counts()"
   ]
  },
  {
   "cell_type": "code",
   "execution_count": 12,
   "id": "5fd02355-73d0-4e5d-b0f7-6cf285876b45",
   "metadata": {},
   "outputs": [
    {
     "data": {
      "text/plain": [
       "labels\n",
       "male_neutral     120\n",
       "male_sad          60\n",
       "male_surprise     60\n",
       "male_fear         60\n",
       "male_disgust      60\n",
       "male_happy        60\n",
       "male_angry        60\n",
       "Name: count, dtype: int64"
      ]
     },
     "execution_count": 12,
     "metadata": {},
     "output_type": "execute_result"
    }
   ],
   "source": [
    "SAVEE = \"ALL/\"\n",
    "dir_list = os.listdir(SAVEE)\n",
    "\n",
    "# parse the filename to get the emotions\n",
    "emotion=[]\n",
    "path = []\n",
    "for i in dir_list:\n",
    "    if i[-8:-6]=='_a':\n",
    "        emotion.append('male_angry')\n",
    "    elif i[-8:-6]=='_d':\n",
    "        emotion.append('male_disgust')\n",
    "    elif i[-8:-6]=='_f':\n",
    "        emotion.append('male_fear')\n",
    "    elif i[-8:-6]=='_h':\n",
    "        emotion.append('male_happy')\n",
    "    elif i[-8:-6]=='_n':\n",
    "        emotion.append('male_neutral')\n",
    "    elif i[-8:-6]=='sa':\n",
    "        emotion.append('male_sad')\n",
    "    elif i[-8:-6]=='su':\n",
    "        emotion.append('male_surprise')\n",
    "    else:\n",
    "        emotion.append('male_error') \n",
    "    path.append(SAVEE + i)\n",
    "    \n",
    "# Now check out the label count distribution \n",
    "SAVEE_df = pd.DataFrame(emotion, columns = ['labels'])\n",
    "SAVEE_df['source'] = 'SAVEE'\n",
    "SAVEE_df = pd.concat([SAVEE_df, pd.DataFrame(path, columns = ['path'])], axis = 1)\n",
    "SAVEE_df.labels.value_counts()"
   ]
  },
  {
   "cell_type": "code",
   "execution_count": 13,
   "id": "bd07ca10-8c26-4df8-9f3b-7e3fc6ff494a",
   "metadata": {},
   "outputs": [
    {
     "data": {
      "text/plain": [
       "labels\n",
       "female_fear        400\n",
       "female_surprise    400\n",
       "female_sad         400\n",
       "female_angry       400\n",
       "female_disgust     400\n",
       "female_happy       400\n",
       "female_neutral     400\n",
       "Unknown             14\n",
       "Name: count, dtype: int64"
      ]
     },
     "execution_count": 13,
     "metadata": {},
     "output_type": "execute_result"
    }
   ],
   "source": [
    "TESS = \"TESS Toronto emotional speech set data/\"\n",
    "dir_list = os.listdir(TESS)\n",
    "dir_list.sort()\n",
    "path = []\n",
    "emotion = []\n",
    "\n",
    "for i in dir_list:\n",
    "    fname = os.listdir(TESS + i)\n",
    "    for f in fname:\n",
    "        if i == 'OAF_angry' or i == 'YAF_angry':\n",
    "            emotion.append('female_angry')\n",
    "        elif i == 'OAF_disgust' or i == 'YAF_disgust':\n",
    "            emotion.append('female_disgust')\n",
    "        elif i == 'OAF_Fear' or i == 'YAF_fear':\n",
    "            emotion.append('female_fear')\n",
    "        elif i == 'OAF_happy' or i == 'YAF_happy':\n",
    "            emotion.append('female_happy')\n",
    "        elif i == 'OAF_neutral' or i == 'YAF_neutral':\n",
    "            emotion.append('female_neutral')                                \n",
    "        elif i == 'OAF_Pleasant_surprise' or i == 'YAF_pleasant_surprised':\n",
    "            emotion.append('female_surprise')               \n",
    "        elif i == 'OAF_Sad' or i == 'YAF_sad':\n",
    "            emotion.append('female_sad')\n",
    "        else:\n",
    "            emotion.append('Unknown')\n",
    "        path.append(TESS + i + \"/\" + f)\n",
    "\n",
    "TESS_df = pd.DataFrame(emotion, columns = ['labels'])\n",
    "TESS_df['source'] = 'TESS'\n",
    "TESS_df = pd.concat([TESS_df,pd.DataFrame(path, columns = ['path'])],axis=1)\n",
    "TESS_df.labels.value_counts()"
   ]
  }
 ],
 "metadata": {
  "kernelspec": {
   "display_name": "Python 3 (ipykernel)",
   "language": "python",
   "name": "python3"
  },
  "language_info": {
   "codemirror_mode": {
    "name": "ipython",
    "version": 3
   },
   "file_extension": ".py",
   "mimetype": "text/x-python",
   "name": "python",
   "nbconvert_exporter": "python",
   "pygments_lexer": "ipython3",
   "version": "3.9.13"
  }
 },
 "nbformat": 4,
 "nbformat_minor": 5
}
