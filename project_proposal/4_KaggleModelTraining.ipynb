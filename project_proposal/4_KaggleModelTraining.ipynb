{
 "cells": [
  {
   "cell_type": "markdown",
   "id": "ed297d8a-2be5-47e9-ac33-b62be522449e",
   "metadata": {},
   "source": [
    "https://www.kaggle.com/code/ejlok1/audio-emotion-part-3-baseline-model/notebook"
   ]
  },
  {
   "cell_type": "markdown",
   "id": "146448c9-998a-489d-8fa8-6ad95ce328f5",
   "metadata": {},
   "source": [
    "https://www.kaggle.com/code/ejlok1/audio-emotion-part-4-apply-to-new-audio-data/notebook"
   ]
  },
  {
   "cell_type": "markdown",
   "id": "c4d47731-3e0b-4a31-9399-afd748a1cd68",
   "metadata": {},
   "source": [
    "### All the audio journals of the user would be tagged and stored onto data store.\n",
    "### For the current audio journal a suggestion text would be generated\n",
    "### A mood chart for a user would be displey for different time durations on selection"
   ]
  },
  {
   "cell_type": "code",
   "execution_count": null,
   "id": "a7b58ec0-9e48-45f0-9095-8848960195e7",
   "metadata": {},
   "outputs": [],
   "source": []
  }
 ],
 "metadata": {
  "kernelspec": {
   "display_name": "Python 3 (ipykernel)",
   "language": "python",
   "name": "python3"
  },
  "language_info": {
   "codemirror_mode": {
    "name": "ipython",
    "version": 3
   },
   "file_extension": ".py",
   "mimetype": "text/x-python",
   "name": "python",
   "nbconvert_exporter": "python",
   "pygments_lexer": "ipython3",
   "version": "3.9.13"
  }
 },
 "nbformat": 4,
 "nbformat_minor": 5
}
